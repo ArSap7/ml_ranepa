{
 "cells": [
  {
   "cell_type": "markdown",
   "metadata": {
    "id": "9Trlx_zFLOut"
   },
   "source": [
    "# Дивергениция Кульбака-Лейблера, индекс Джини, деревья!"
   ]
  },
  {
   "cell_type": "markdown",
   "metadata": {
    "id": "9ogTJsgzLO2F"
   },
   "source": [
    "### Снова про энтропию"
   ]
  },
  {
   "cell_type": "markdown",
   "metadata": {
    "id": "YoPQrZytLO70"
   },
   "source": [
    "__Упражнение 1__ \n",
    "\n",
    "|X      |1      |2      |      3|\n",
    "|-------|-------|-------|-------|\n",
    "|P(X=k)|1/3|1/3|1/3|\n",
    "\n",
    "\n",
    "$$\n",
    "H(X) = \\mathbb{E}(-\\ln P(X=k)) = - \\left(\\frac{1}{3} \\cdot \\ln \\frac{1}{3} +  \\frac{1}{3} \\cdot \\ln \\frac{1}{3} +  \\frac{1}{3} \\cdot \\ln \\frac{1}{3} \\right) = \\ln 3\n",
    "$$\n",
    "\n",
    "\n",
    "А что если случайная величина принимает пять значений равновероятно? Какой будет энтропия?\n"
   ]
  },
  {
   "cell_type": "markdown",
   "metadata": {
    "id": "Dgf8HvycT27k"
   },
   "source": [
    "__Упражнение 2__ \n",
    "\n",
    "$Y \\sim U[0;a]$\n",
    "\n",
    "$$\n",
    "p(t) = \\begin{cases} \\frac{1}{a}, t \\in [0;a] \\\\ 0, t \\notin [0;a]  \\end{cases}\n",
    "$$\n"
   ]
  },
  {
   "cell_type": "markdown",
   "metadata": {
    "id": "UGAvmB8JT3AE"
   },
   "source": [
    "$$\n",
    "H(Y) = \\mathbb{E}(-\\ln p(t)) = - \\int_0^a \\left(-\\ln \\frac{1}{a} \\right) \\cdot \\frac{1}{a} dt =  \\ln a\n",
    "$$\n",
    "\n",
    "--------\n",
    "\n",
    "$$\n",
    "\\mathbb{E}(X) = \\int x \\cdot p(x) dx\n",
    "$$\n",
    "\n",
    "$$\n",
    "\\mathbb{E}( \\varphi(X)) = \\int \\varphi(x) \\cdot p(x) dx\n",
    "$$\n",
    "\n",
    "--------\n"
   ]
  },
  {
   "cell_type": "markdown",
   "metadata": {
    "id": "5wqJaPu0VRWv"
   },
   "source": [
    "__Упражнение 3__ \n",
    "\n"
   ]
  },
  {
   "cell_type": "markdown",
   "metadata": {
    "id": "LZDELifQVchH"
   },
   "source": [
    "|$X$      |$0$     |$1$|\n",
    "|-------|-------|-----|\n",
    "|$P(X=k)$|$1-p$|$p$|\n",
    "\n",
    "- Найти $H(X)$ \n",
    "- Построить график зависимости энтропии от $p$\n",
    "\n",
    "$$\n",
    "H(X) = - [ p \\cdot \\ln p + (1-p) \\cdot \\ln(1-p)]\n",
    "$$\n",
    "\n"
   ]
  },
  {
   "cell_type": "code",
   "execution_count": null,
   "metadata": {
    "colab": {
     "base_uri": "https://localhost:8080/",
     "height": 265
    },
    "id": "DOgNjO1yTxA1",
    "outputId": "48c4ad9a-f580-406a-bb94-50eea6d58469"
   },
   "outputs": [
    {
     "data": {
      "image/png": "[encoded data removed]",
      "text/plain": [
       "<Figure size 432x288 with 1 Axes>"
      ]
     },
     "metadata": {
      "needs_background": "light"
     },
     "output_type": "display_data"
    }
   ],
   "source": [
    "import numpy as np\n",
    "import matplotlib.pyplot as plt\n",
    "\n",
    "p = np.linspace(1e-10, 1 - 1e-10, 300)\n",
    "H = -(p * np.log(p) + (1 - p)*np.log(1-p))\n",
    "plt.plot(p, H);"
   ]
  },
  {
   "cell_type": "markdown",
   "metadata": {
    "id": "0ND2NsgJWwLU"
   },
   "source": [
    "__Где можно использовать на практике?__\n",
    "\n",
    "- фрод: приходят люди, заводят себе роботов и пытаются накручивать клики в рекомендательном фиде либо пытаются скликивать рекламу \n",
    "- эвристика на основе энтропии: \n",
    "     - ip адреса людей, которые кликают \n",
    "     - id  рекламных баннеров\n"
   ]
  },
  {
   "cell_type": "markdown",
   "metadata": {
    "id": "ShcFo3mBZEGU"
   },
   "source": [
    "__Энтропия в битах и байтах__\n",
    "\n",
    "- $-\\log_2 \\frac{1}{2^8} = 8$\n",
    "- $-\\log_c \\frac{1}{2^8} = 1 \\Rightarrow c = 2^8$"
   ]
  },
  {
   "cell_type": "markdown",
   "metadata": {
    "id": "ioB0_AnIWwXU"
   },
   "source": [
    "## Кросс-энтропия и дивергенция Кульбака-Лейблера"
   ]
  },
  {
   "cell_type": "markdown",
   "metadata": {
    "id": "YS39crXBZp0I"
   },
   "source": [
    "|$X$| бэтман |  трамп  |  мики маус | Юра | \n",
    "|---|--------|---------|------------|-----|\n",
    "|$p$|$\\frac{1}{4}$|$\\frac{1}{2}$|$\\frac{1}{8}$|$\\frac{1}{8}$|\n",
    "|$q$|$\\frac{1}{8}$|$\\frac{1}{4}$|$\\frac{1}{2}$|$\\frac{1}{8}$|\n",
    "\n",
    "- Распределение $p$ - это настоящий я\n",
    "- Распределение $q$ - это ваше мнение обо мне\n",
    "\n",
    "Если мы играем в эту игру, то отгадывающий задаёт вопросы по распределению $q$"
   ]
  },
  {
   "cell_type": "markdown",
   "metadata": {
    "id": "NozJUrgOZp89"
   },
   "source": [
    "__Определение__ Кросс-энтропия $CE(p || q)$ - среднее количество вопросов на угадывание, при использовании $q$, если в реальность загадывание происходит по $p$"
   ]
  },
  {
   "cell_type": "markdown",
   "metadata": {
    "id": "IptKFOt4amFH"
   },
   "source": [
    "$$\n",
    "CE(p || q) =  - \\mathbb{E}_p(\\ln q(v)) = - \\sum_{v} p(v) \\cdot \\ln q(v)\n",
    "$$"
   ]
  },
  {
   "cell_type": "code",
   "execution_count": null,
   "metadata": {
    "colab": {
     "base_uri": "https://localhost:8080/"
    },
    "id": "uvn3_27gWFzt",
    "outputId": "20d990cb-0e5e-4992-b559-eb34f5e31e50"
   },
   "outputs": [
    {
     "data": {
      "text/plain": [
       "1.559581156259877"
      ]
     },
     "execution_count": 9,
     "metadata": {},
     "output_type": "execute_result"
    }
   ],
   "source": [
    "# Кросс-энтропия (когда я отгадываю по своему распределению)\n",
    "-(1/4 * np.log(1/8) + 1/2 * np.log(1/4) + 1/8 * np.log(1/2) + 1/8 * np.log(1/8))"
   ]
  },
  {
   "cell_type": "code",
   "execution_count": null,
   "metadata": {
    "colab": {
     "base_uri": "https://localhost:8080/"
    },
    "id": "uBR9puddbFtp",
    "outputId": "8a9bcb69-acc0-4ae3-abcb-0bf590bbaae2"
   },
   "outputs": [
    {
     "data": {
      "text/plain": [
       "1.2130075659799042"
      ]
     },
     "execution_count": 10,
     "metadata": {},
     "output_type": "execute_result"
    }
   ],
   "source": [
    "# Настоящая энтропия (если бы я знал распределение загадывающего)\n",
    "-(1/4 * np.log(1/4) + 1/2 * np.log(1/2) + 1/8 * np.log(1/8) + 1/8 * np.log(1/8))"
   ]
  },
  {
   "cell_type": "markdown",
   "metadata": {
    "id": "wsXscJr1bEov"
   },
   "source": [
    "$$\n",
    "CE(p || p) = H(p)\n",
    "$$\n",
    "\n",
    "$$\n",
    "CE(p || q) \\ge H(p) \n",
    "$$\n",
    "\n",
    "Попробуйте доказать последнее неравенство на досуге. \n"
   ]
  },
  {
   "cell_type": "markdown",
   "metadata": {
    "id": "QatfO0b0a2U0"
   },
   "source": [
    "__Определение__ Дивергениция Кульбака Лейблера $KL(p || q)$ - это потери из-за того, что модель не совпадает с реальным миром, то есть это количество лишних вопросов, которые нам пришлось задать в данетке\n",
    "\n",
    "$$\n",
    "KL(p || q) = CE(p || q) - H(p) \n",
    "$$"
   ]
  },
  {
   "cell_type": "markdown",
   "metadata": {
    "id": "od8auyJjb1vl"
   },
   "source": [
    "Видно, что $KL(p || q) \\ge 0$"
   ]
  },
  {
   "cell_type": "markdown",
   "metadata": {
    "id": "nls1V_L_cAEF"
   },
   "source": [
    "$$\n",
    "KL(p || q) = CE(p || q) - H(p) = \\mathbb{E}_p(-\\ln q(v)) - \\mathbb{E}_p(-\\ln p(v)) = \\sum_v p(v) \\cdot \\ln \\frac{p(v)}{q(v)}\n",
    "$$"
   ]
  },
  {
   "cell_type": "markdown",
   "metadata": {
    "id": "KgXrcSWjcl_A"
   },
   "source": [
    "Мы можем заменить сложное распределение на более прсотое! KL-дивенргениця это не метрика. \n",
    "\n",
    "__Что такое метрика?__\n",
    "\n",
    "- $\\rho(a, b) \\ge 0$\n",
    "- $\\rho(a, b) = \\rho(b,a)$\n",
    "- неравенство треугольника\n",
    "\n",
    "Для KL-дивергенции $KL(p || q) \\ne KL(q || p)$!!!\n"
   ]
  },
  {
   "cell_type": "markdown",
   "metadata": {
    "id": "70BzBVsZdFRf"
   },
   "source": [
    "А почему бы не взять какую-нибудь метрику из матана? \n",
    "\n",
    "$$\n",
    "d(p,q) = \\max_t |p(t) - q(t)| \n",
    "$$"
   ]
  },
  {
   "cell_type": "markdown",
   "metadata": {
    "id": "0O0f-J-Ceu7A"
   },
   "source": [
    "__Зачем нам вообще нужна $KL$-дивергенция?__\n",
    "\n",
    "- Если вы подробно поизучаете TSNE, там как раз оптимизируется KL-дивергенция\n",
    "- С помощью $KL$-дивергенции удобно считать расстояния между распределениями\n",
    "- Чуть позже мы доберёмся до EM-алгоритма и там окажется что \n",
    "\n",
    "\n",
    "$$\n",
    "\\log p(y \\mid \\theta) = KL(q || p) + ELBO(q, \\theta)\n",
    "$$\n",
    "\n",
    "$$\n",
    "\\log p(y \\mid \\theta) \\ge ELBO(q, \\theta)\n",
    "$$\n",
    "\n",
    "Можно расписать сложную функцию правдоподобия через эти два слагаемых (позже докажем) и оптимизация станет на порядок проще!"
   ]
  },
  {
   "cell_type": "markdown",
   "metadata": {
    "id": "mFTL9vpSfiQ8"
   },
   "source": [
    "## Как дивергенция и кросс-энтропия связаны с функциями потерь? \n",
    "\n",
    "|$Y$| $0$ | $1$ |\n",
    "|---|-----|-----|\n",
    "|настоящее р-е| $1-p$ | $p$|\n",
    "|модель       | $1-q$ | $q$|\n",
    "\n",
    "Кросс-энтропия:\n",
    "\n",
    "$$\n",
    "CE(p || q) = -\\mathbb{E}_p[\\ln q(v)] = -[p \\cdot \\ln q + (1 - p) \\cdot \\ln(1 - q)]\n",
    "$$\n"
   ]
  },
  {
   "cell_type": "markdown",
   "metadata": {
    "id": "HN5cKXzdgFg2"
   },
   "source": [
    "- $p \\sim y \\in \\{0, 1\\}$\n",
    "- $q \\sim p(x) \\in [0;1]$\n",
    "\n",
    "тогда \n",
    "\n",
    "$$\n",
    "CE(p || q) = - [y \\cdot \\ln p(x) + (1 - y) \\cdot \\ln (1 - p(x))]\n",
    "$$"
   ]
  },
  {
   "cell_type": "markdown",
   "metadata": {
    "id": "lvmISrL6gdaC"
   },
   "source": [
    "$$\n",
    "CE(p || q) = KL(p || q) + H(p)\n",
    "$$\n",
    "\n",
    "Получается, что если мы решаем задачу оптимизации в ML для классификации, мы либо \n",
    "\n",
    "$$\n",
    "CE(p || q) \\to \\min_q\n",
    "$$\n",
    "\n",
    "либо \n",
    "\n",
    "$$\n",
    "KL(p || q) \\to \\min_q\n",
    "$$"
   ]
  },
  {
   "cell_type": "markdown",
   "metadata": {
    "id": "ToX_C1W4i-Cn"
   },
   "source": [
    "# Деревья!"
   ]
  },
  {
   "cell_type": "markdown",
   "metadata": {
    "id": "9Wjx8ZNni-Lj"
   },
   "source": [
    "## Индекс Джини!\n",
    "\n",
    "|$X$|$x_1$|$x_2$|$\\ldots$|$x_k$|\n",
    "|---|-----|-----|------|--------|\n",
    "|$P(X=x_i)$|$p_1$|$p_2$|$\\ldots$|$p_k$|"
   ]
  },
  {
   "cell_type": "markdown",
   "metadata": {
    "id": "3Rje6dmtj9MR"
   },
   "source": [
    "$$\n",
    "I_D(X) = \\sum_{i=1}^K p_i \\cdot (1 - p_i) = \\sum_{i=1}^K p_i  - \\sum_{i=1}^K p^2_i = 1 - \\sum_{i=1}^K p^2_i \n",
    "$$"
   ]
  },
  {
   "cell_type": "markdown",
   "metadata": {
    "id": "4PRpKwMUkP-h"
   },
   "source": [
    "__Упражнение__\n",
    "\n",
    "|$X$|$0$|$1$|$2$|\n",
    "|---|---|---|---|\n",
    "|$P(X=x_i)$|$1/2$|$1/4$|$1/4$|\n",
    "\n",
    "$$\n",
    "I_D(X) = 0.5 \\cdot (1 - 0.5) + 0.25 \\cdot (1 - 0.25) + 0.25 \\cdot (1 - 0.25)\n",
    "$$\n",
    "\n",
    "ну либо\n",
    "\n",
    "$$\n",
    "I_D(X) = 1 - (0.5^2 + 0.25^2 + 0.25^2)\n",
    "$$\n"
   ]
  },
  {
   "cell_type": "markdown",
   "metadata": {
    "id": "m8dTv5I1kwMs"
   },
   "source": [
    "__Упражнение__ \n",
    "\n",
    "\n",
    "|$X$      |$0$     |$1$|\n",
    "|-------|-------|-----|\n",
    "|$P(X=k)$|$1-p$|$p$|\n",
    "\n",
    "- Найти $I_D(X)$ \n",
    "- Построить график зависимости Джини от $p$\n",
    "\n",
    "$$\n",
    "I_D(X) = p \\cdot (1 - p) + (1 - p) \\cdot p = 2p - 2p^2\n",
    "$$\n"
   ]
  },
  {
   "cell_type": "code",
   "execution_count": null,
   "metadata": {
    "colab": {
     "base_uri": "https://localhost:8080/",
     "height": 265
    },
    "id": "D4cuLt8xbzpe",
    "outputId": "a5c37415-1c53-4312-fab0-db180bf5c74a"
   },
   "outputs": [
    {
     "data": {
      "image/png": "[encoded data removed]",
      "text/plain": [
       "<Figure size 432x288 with 1 Axes>"
      ]
     },
     "metadata": {
      "needs_background": "light"
     },
     "output_type": "display_data"
    }
   ],
   "source": [
    "p = np.linspace(1e-10, 1 - 1e-10, 300)\n",
    "H = -(p * np.log(p) + (1 - p)*np.log(1-p))\n",
    "J =  2*p - 2*p**2\n",
    "\n",
    "plt.plot(p, H, label='entropy');\n",
    "plt.plot(p, J, label='gini');\n",
    "plt.legend();"
   ]
  },
  {
   "cell_type": "markdown",
   "metadata": {
    "id": "ALIdFErFlrxs"
   },
   "source": [
    "Джини по сравнению с энропией измеряет примерно то же самое, но у кривой чуток другая высота. "
   ]
  },
  {
   "cell_type": "code",
   "execution_count": null,
   "metadata": {
    "id": "yslN0iZxlkNM"
   },
   "outputs": [],
   "source": []
  }
 ],
 "metadata": {
  "colab": {
   "provenance": []
  },
  "kernelspec": {
   "display_name": "Python 3 (ipykernel)",
   "language": "python",
   "name": "python3"
  },
  "language_info": {
   "codemirror_mode": {
    "name": "ipython",
    "version": 3
   },
   "file_extension": ".py",
   "mimetype": "text/x-python",
   "name": "python",
   "nbconvert_exporter": "python",
   "pygments_lexer": "ipython3",
   "version": "3.9.13"
  }
 },
 "nbformat": 4,
 "nbformat_minor": 1
}
