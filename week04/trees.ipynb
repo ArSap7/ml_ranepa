{
  "cells": [
    {
      "cell_type": "markdown",
      "metadata": {
        "id": "K-mLrkZo4i2n"
      },
      "source": [
        "# Деревья"
      ]
    },
    {
      "cell_type": "markdown",
      "metadata": {
        "id": "oTcakI1b4i2p"
      },
      "source": [
        "## 1. Критерии информативности: энтропия и критрий Джини"
      ]
    },
    {
      "cell_type": "markdown",
      "metadata": {
        "id": "ht1okUs94i2p"
      },
      "source": [
        "### 1.1 Энтропия\n",
        "\n",
        "\n",
        "$H(X) = \\mathbb{E}[-\\ln f(X)]$\n",
        "\n",
        "$H(X) = \\mathbb{E}[-\\ln \\mathbb{P}(X=k)]$"
      ]
    },
    {
      "cell_type": "markdown",
      "metadata": {
        "id": "e6MOgZfq4i2p"
      },
      "source": [
        "__Упражнение 1__\n",
        "\n",
        "Подситайте энтропию случайной величины $X$ \n",
        "\n",
        "| $X$                  | $0$ | $1$ |\n",
        "|:--------------------:|:---:|:---:|\n",
        "| $\\mathbb{P}(X=k)$    |$0.8$|$0.2$|\n",
        "| $\\ln \\mathbb{P}(X=k)$|$\\ln 0.8$|$ \\ln 0.2$|"
      ]
    },
    {
      "cell_type": "markdown",
      "metadata": {
        "id": "a0MJINyD4i2p"
      },
      "source": [
        "$$\n",
        "H(X) = \\mathbb{E}[-\\ln \\mathbb{P}(X=k)] -0.8 \\cdot \\ln 0.8 - 0.2 \\cdot \\ln 0.2\n",
        "$$"
      ]
    },
    {
      "cell_type": "markdown",
      "metadata": {
        "id": "spJ5FOBh4i2q"
      },
      "source": [
        "__Упражнение 2__\n",
        "\n",
        "Подситайте энтропию случайной величины $X$. Нарисуйте график $H(p)$\n",
        "\n",
        "| $X$                  | $0$ | $1$ |\n",
        "|:--------------------:|:---:|:---:|\n",
        "| $\\mathbb{P}(X=k)$    |$1-p$|$p$|\n",
        "| $\\ln \\mathbb{P}(X=k)$|$\\ln p$|$ \\ln p$|"
      ]
    },
    {
      "cell_type": "markdown",
      "metadata": {
        "id": "yULiOQBO4i2q"
      },
      "source": [
        "$$\n",
        "H(X) = \\mathbb{E}[-\\ln \\mathbb{P}(X=k)] -(1-p) \\cdot \\ln (1-p) - p \\cdot \\ln p\n",
        "$$"
      ]
    },
    {
      "cell_type": "markdown",
      "metadata": {
        "id": "LFK4pn6K4i2q"
      },
      "source": [
        "### 1.2 Критерий Джини \n",
        "\n",
        "$$\n",
        "I_D(X) = \\sum_{k=1}^{K} p_k \\cdot (1 - p_k) = 1 - \\sum_{k=1}^{K} p_k^2\n",
        "$$"
      ]
    },
    {
      "cell_type": "markdown",
      "metadata": {
        "id": "posJaIxl4i2q"
      },
      "source": [
        "__Упражнение 3__ \n",
        "\n",
        "Найдите значение Джини:\n",
        "\n",
        "| $X$                  | $0$ | $1$ |  $2$ | \n",
        "|:--------------------:|:---:|:---:|:-----|\n",
        "| $\\mathbb{P}(X=k)$    |$1/2$|$1/4$|$1/4$ |"
      ]
    },
    {
      "cell_type": "markdown",
      "metadata": {
        "id": "JGjVPdo84i2q"
      },
      "source": [
        "$$\n",
        "I_D(X) = 0.5 \\cdot (1 - 0.5) + 0.25 \\cdot (1 - 0.25) + 0.25 \\cdot (1 - 0.25)\n",
        "$$"
      ]
    },
    {
      "cell_type": "markdown",
      "metadata": {
        "id": "3XTny34l4i2q"
      },
      "source": [
        "$$\n",
        "I_D(X) = 1 - (0.5^2 + 0.25^2 + 0.25^2)\n",
        "$$"
      ]
    },
    {
      "cell_type": "markdown",
      "metadata": {
        "id": "0QL_pcZh4i2q"
      },
      "source": [
        "__Упражнение 4__\n",
        "\n",
        "Подситайте Джини случайной величины $X$. Нарисуйте график $I(p)$\n",
        "\n",
        "| $X$                  | $0$ | $1$ |\n",
        "|:--------------------:|:---:|:---:|\n",
        "| $\\mathbb{P}(X=k)$    |$1-p$|$p$|"
      ]
    },
    {
      "cell_type": "markdown",
      "metadata": {
        "id": "KjrIfPFC4i2r"
      },
      "source": [
        "$$\n",
        "I_D(X) = (1-p)p + p(1-p) = 2p - 2p^2\n",
        "$$"
      ]
    },
    {
      "cell_type": "markdown",
      "metadata": {
        "id": "bziND_Wy4i2r"
      },
      "source": [
        "## 2. Выращиваем дерево своими руками"
      ]
    },
    {
      "cell_type": "markdown",
      "metadata": {
        "id": "jNfycdSD4i2r"
      },
      "source": [
        "__Упражнение 5__\n",
        "\n",
        "Пусть $x$ - это количество горшков мёда, которые съел Винни-Пух в гостях у Кролика, а $y$ принимает значение $1$, если ВП застрял при выходе из дома в двери и не смог выбраться.\n",
        "\n",
        "\n",
        "| $x$ | $y$ |\n",
        "|:---:|:---:|\n",
        "|  1  |  0  |\n",
        "|  4  |  1  |\n",
        "|  2  |  1  |\n",
        "|  3  |  0  |\n",
        "|  3  |  1  |\n",
        "|  1  |  0  |\n",
        "\n",
        "Кролик хочет на этой выборке обучить решающее дерево, которое будет помогать ему предсказывать состояние ВП по тому числу горшочков, которое он съел."
      ]
    },
    {
      "cell_type": "markdown",
      "metadata": {
        "id": "LiXOnQbU4i2r"
      },
      "source": [
        "$$\n",
        "Q(R_m, x, \\gamma) = H(R_0) - \\frac{|R_l|}{|R_0|} \\cdot H(R_l) - \\frac{|R_r|}{|R_0|} \\cdot H(R_r) \\to \\max_{x, \\gamma} \n",
        "$$"
      ]
    },
    {
      "cell_type": "markdown",
      "metadata": {
        "id": "li_G4nro4i2r"
      },
      "source": [
        "1. Неопределённость в корне"
      ]
    },
    {
      "cell_type": "markdown",
      "metadata": {
        "id": "xhaB7LQi4i2r"
      },
      "source": [
        "$$\n",
        "I_D(R_0) = 1 - ([1/2]^2 + [1/2]^2) = 1/2\n",
        "$$\n",
        "\n",
        "$$\n",
        "H(R_0) = -0.5 \\ln 0.5 - 0.5 \\ln 0.5 = 0.69\n",
        "$$\n",
        "\n"
      ]
    },
    {
      "cell_type": "markdown",
      "metadata": {
        "id": "vUMel9dy4i2r"
      },
      "source": [
        "2. Поиск первого разбиения"
      ]
    },
    {
      "cell_type": "markdown",
      "metadata": {
        "id": "Pn-PCJ_34i2r"
      },
      "source": [
        "$1 | 2 3 4$"
      ]
    },
    {
      "cell_type": "markdown",
      "metadata": {
        "id": "lUgJbFNM4i2r"
      },
      "source": [
        "00 | 0 1 1 1"
      ]
    },
    {
      "cell_type": "code",
      "execution_count": null,
      "metadata": {
        "id": "Y4sXrfpE4i2s",
        "outputId": "e052760d-02b5-45bd-b88c-52c25d4a9426"
      },
      "outputs": [
        {
          "data": {
            "text/plain": [
              "0"
            ]
          },
          "execution_count": 1,
          "metadata": {},
          "output_type": "execute_result"
        }
      ],
      "source": [
        "#I_L \n",
        "1 - (1**2 + 0**2)"
      ]
    },
    {
      "cell_type": "code",
      "execution_count": null,
      "metadata": {
        "id": "GT1M4rbJ4i2s",
        "outputId": "914ca1b3-5141-4cad-ace8-3f5913792b98"
      },
      "outputs": [
        {
          "data": {
            "text/plain": [
              "0.375"
            ]
          },
          "execution_count": 4,
          "metadata": {},
          "output_type": "execute_result"
        }
      ],
      "source": [
        "## R\n",
        "1 - ( (1/4)**2 + (3/4)**2)"
      ]
    },
    {
      "cell_type": "code",
      "execution_count": null,
      "metadata": {
        "colab": {
          "base_uri": "https://localhost:8080/"
        },
        "id": "OF9aBoBs4i2t",
        "outputId": "13e890e1-41aa-4935-eb77-e80d021bdaa5"
      },
      "outputs": [
        {
          "output_type": "execute_result",
          "data": {
            "text/plain": [
              "0.25"
            ]
          },
          "metadata": {},
          "execution_count": 1
        }
      ],
      "source": [
        "(2/6*0 + 4/6*0.375)"
      ]
    },
    {
      "cell_type": "markdown",
      "metadata": {
        "id": "CZcxXOOk4i2t"
      },
      "source": [
        "$1 2 | 3 4$\n",
        "\n",
        "\n",
        "$0 1 0 | 1 0 1$"
      ]
    },
    {
      "cell_type": "code",
      "execution_count": null,
      "metadata": {
        "id": "8pmiZBiP4i2t",
        "outputId": "1d2c4b37-86d8-47a9-a8ba-ac3a57b17eca"
      },
      "outputs": [
        {
          "data": {
            "text/plain": [
              "0.4444444444444444"
            ]
          },
          "execution_count": 6,
          "metadata": {},
          "output_type": "execute_result"
        }
      ],
      "source": [
        "#I_L \n",
        "1 - ((1/3)**2 + (2/3)**2)"
      ]
    },
    {
      "cell_type": "code",
      "execution_count": null,
      "metadata": {
        "id": "zMTUKsdr4i2t",
        "outputId": "e9ef16cf-d4a4-4938-f3e0-ee98b05c05b5"
      },
      "outputs": [
        {
          "data": {
            "text/plain": [
              "0.4444444444444444"
            ]
          },
          "execution_count": 7,
          "metadata": {},
          "output_type": "execute_result"
        }
      ],
      "source": [
        "## R\n",
        "1 - ((2/3)**2 + (1/3)**2)"
      ]
    },
    {
      "cell_type": "code",
      "execution_count": null,
      "metadata": {
        "colab": {
          "base_uri": "https://localhost:8080/"
        },
        "id": "rtkjE9kM4i2t",
        "outputId": "a5e2a340-81b4-4a2e-ca8a-e40f52fdd90a"
      },
      "outputs": [
        {
          "output_type": "execute_result",
          "data": {
            "text/plain": [
              "0.44"
            ]
          },
          "metadata": {},
          "execution_count": 2
        }
      ],
      "source": [
        "(3/6 * 0.44  + 3/6 * 0.44)"
      ]
    },
    {
      "cell_type": "markdown",
      "metadata": {
        "id": "hMKysYik4i2t"
      },
      "source": [
        "$1 2 3 | 4$\n",
        "\n",
        "$ 0 1 0 1 0 | 1$ "
      ]
    },
    {
      "cell_type": "code",
      "execution_count": null,
      "metadata": {
        "id": "GKEt1omg4i2t",
        "outputId": "158d19c5-b3ab-48d6-b5f1-1c3dee070afd"
      },
      "outputs": [
        {
          "data": {
            "text/plain": [
              "0.48"
            ]
          },
          "execution_count": 14,
          "metadata": {},
          "output_type": "execute_result"
        }
      ],
      "source": [
        "#I_L \n",
        "1 - ((3/5)**2 + (2/5)**2)"
      ]
    },
    {
      "cell_type": "code",
      "execution_count": null,
      "metadata": {
        "id": "0_S6QZQP4i2u",
        "outputId": "52a91021-8f65-4df0-f28c-cbaeeec4b810"
      },
      "outputs": [
        {
          "data": {
            "text/plain": [
              "0"
            ]
          },
          "execution_count": 15,
          "metadata": {},
          "output_type": "execute_result"
        }
      ],
      "source": [
        "## R\n",
        "1 - ((0)**2 + (1)**2)"
      ]
    },
    {
      "cell_type": "code",
      "execution_count": null,
      "metadata": {
        "colab": {
          "base_uri": "https://localhost:8080/"
        },
        "id": "GUc9osD-4i2u",
        "outputId": "c8ef1b9e-0996-40d0-b8e0-f5648bcb7c91"
      },
      "outputs": [
        {
          "output_type": "execute_result",
          "data": {
            "text/plain": [
              "0.4"
            ]
          },
          "metadata": {},
          "execution_count": 3
        }
      ],
      "source": [
        "(5/6 * 0.48 + 1/6 * 0)"
      ]
    },
    {
      "cell_type": "markdown",
      "metadata": {
        "id": "bQVO_T0j4i2u"
      },
      "source": [
        "| $x$ | $y$ |\n",
        "|:---:|:---:|\n",
        "|  1  |  0  |\n",
        "|  4  |  1  |\n",
        "|  2  |  1  |\n",
        "|  3  |  0  |\n",
        "|  3  |  1  |\n",
        "|  1  |  0  |"
      ]
    },
    {
      "cell_type": "markdown",
      "metadata": {
        "id": "Tjo3Gyrc4i2u"
      },
      "source": [
        "3. Поиск второго разбиения"
      ]
    },
    {
      "cell_type": "code",
      "execution_count": null,
      "metadata": {
        "id": "bCssU9K34i2u"
      },
      "outputs": [],
      "source": [
        "# додумайте сами :) "
      ]
    },
    {
      "cell_type": "markdown",
      "metadata": {
        "id": "sOo6fyOI4i2u"
      },
      "source": [
        "__А что делать в случае регресии?__\n",
        "\n",
        "Да всё то же самое! Только в качестве критерия разбиеня можно использовать $MSE$, а в качестве прогноза в листьях использовать среднее значение."
      ]
    },
    {
      "cell_type": "markdown",
      "metadata": {
        "id": "tvn6WqkX4i2u"
      },
      "source": [
        "$$\n",
        "H(R) = \\frac{1}{|R|} \\sum_{i \\in R} (y_i - \\bar y_i)^2\n",
        "$$\n",
        "\n",
        "\n",
        "то есть оптимизируем дисперсию в каждой вершине"
      ]
    },
    {
      "cell_type": "markdown",
      "metadata": {
        "id": "nabkgD8d4i2u"
      },
      "source": [
        "## 3. Поговорим о ещё чём-нибудь"
      ]
    },
    {
      "cell_type": "markdown",
      "metadata": {
        "id": "27W_yrTN4i2u"
      },
      "source": [
        "### Про переобучение\n",
        "\n",
        "> Деревья переобучаются как сволочи, они пытаются идеально запомнить тренировочную выборку!"
      ]
    },
    {
      "cell_type": "markdown",
      "metadata": {
        "id": "gnK5imVX4i2v"
      },
      "source": [
        "1. Первый способ борьбы с переобучением дерева - __остановка обучения__ \n",
        "    - ограничить глубину дерево\n",
        "    - ограничить число листьев листьев у дерева \n",
        "    - ограничить минимальное число наблюдений, которое может быть в листе \n",
        "\n",
        "2. Из деревьев собирают ансамбли, те более сложные алгоритмы, в которые деревья входят как частички: случайны лес и бустинг \n",
        "\n",
        "3. Всякая хитрая регуляризация \n"
      ]
    },
    {
      "cell_type": "markdown",
      "metadata": {
        "id": "34pkJcWP4i2v"
      },
      "source": [
        "### Про смысл за Джини"
      ]
    },
    {
      "cell_type": "markdown",
      "metadata": {
        "id": "klr1HME44i2v"
      },
      "source": [
        "Племя, которое ловит мамонтов. Ходят на охоту и приносят мамонта с вероятностью $0.7$."
      ]
    },
    {
      "cell_type": "markdown",
      "metadata": {
        "id": "S13b1vV_4i2v"
      },
      "source": [
        "- шаман нежное порхание бабочки: хм охота чаще всего удачная, буду всегда говорить что мамонта поймают"
      ]
    },
    {
      "cell_type": "markdown",
      "metadata": {
        "id": "GeT2bY3p4i2v"
      },
      "source": [
        "$X$ - случайная величина - сколько раз Шаман налажал, как часто шамана бьют."
      ]
    },
    {
      "cell_type": "markdown",
      "metadata": {
        "id": "9vxJG0E_4i2v"
      },
      "source": [
        "$$\n",
        "\\mathbb{E}(X_{\\text{нпб}}) = 0.3 \\cdot n\n",
        "$$"
      ]
    },
    {
      "cell_type": "markdown",
      "metadata": {
        "id": "Ofprnq8h4i2v"
      },
      "source": [
        "- шаман хитрый петух: осторожничает и говорит рандомно с вероятность $\\alpha$ "
      ]
    },
    {
      "cell_type": "markdown",
      "metadata": {
        "id": "GPbCENu54i2v"
      },
      "source": [
        "$$\n",
        "\\mathbb{E}(X_{\\text{хп}}) = [0.3 \\cdot \\alpha + 0.7 \\cdot (1 -\\alpha)] \\cdot n \\to \\min_{\\alpha} \n",
        "$$"
      ]
    },
    {
      "cell_type": "markdown",
      "metadata": {
        "id": "LaUnhtfs4i2v"
      },
      "source": [
        "$$\n",
        "0.7 - 0.4 \\alpha \\to \\min_{\\alpha} \n",
        "$$"
      ]
    },
    {
      "cell_type": "markdown",
      "metadata": {
        "id": "-2ACuwyB4i2v"
      },
      "source": [
        "$$\n",
        "\\alpha = 1\n",
        "$$"
      ]
    },
    {
      "cell_type": "markdown",
      "metadata": {
        "id": "Xbf_PnGT4i2v"
      },
      "source": [
        "__Эти два шамана делают одно и то же!__ "
      ]
    },
    {
      "cell_type": "markdown",
      "metadata": {
        "id": "rN__FxKv4i2v"
      },
      "source": [
        "- шаман беззаботная белка: говорит нам вчерашний результат"
      ]
    },
    {
      "cell_type": "markdown",
      "metadata": {
        "id": "MhN-3LIT4i2v"
      },
      "source": [
        "$$\n",
        "\\mathbb{E}(X_{\\text{бб}}) = n \\cdot (0.7 \\cdot 0.3  + 0.3 \\cdot 0.7 ) = 0.42 n\n",
        "$$"
      ]
    },
    {
      "cell_type": "markdown",
      "metadata": {
        "id": "jhsaWO5s4i2w"
      },
      "source": [
        "Индекс Джини измеряет сколько раз в среднем будут бить беззаботную белку.  Средняя доля ошибок при наивном прогнозе. "
      ]
    },
    {
      "cell_type": "markdown",
      "metadata": {
        "id": "sM0CMCN-4i2w"
      },
      "source": [
        "  "
      ]
    }
  ],
  "metadata": {
    "kernelspec": {
      "display_name": "Python 3",
      "language": "python",
      "name": "python3"
    },
    "language_info": {
      "codemirror_mode": {
        "name": "ipython",
        "version": 3
      },
      "file_extension": ".py",
      "mimetype": "text/x-python",
      "name": "python",
      "nbconvert_exporter": "python",
      "pygments_lexer": "ipython3",
      "version": "3.7.3"
    },
    "colab": {
      "provenance": []
    }
  },
  "nbformat": 4,
  "nbformat_minor": 0
}